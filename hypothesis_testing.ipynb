{
 "cells": [
  {
   "cell_type": "code",
   "execution_count": 1,
   "id": "5341802b-ecdc-4221-8a5d-636a45642457",
   "metadata": {},
   "outputs": [],
   "source": [
    "from statsmodels.stats.multicomp import pairwise_tukeyhsd\n",
    "import pandas as pd\n",
    "import scipy.stats as stats\n",
    "import seaborn as sns\n",
    "import matplotlib.pyplot as plt\n"
   ]
  },
  {
   "cell_type": "code",
   "execution_count": 2,
   "id": "023716a7-37cd-4431-a612-70e3ed731c81",
   "metadata": {},
   "outputs": [],
   "source": [
    "inter = pd.read_csv(\"reliable_data.csv\")"
   ]
  },
  {
   "cell_type": "markdown",
   "id": "eadd7fa5-8f45-406a-8b35-35191d077c5d",
   "metadata": {},
   "source": [
    "**Ho:The loss percentage distribution for a given key follows a normal distribution.**"
   ]
  },
  {
   "cell_type": "markdown",
   "id": "0c304683-6140-453e-88fb-5f85fc622504",
   "metadata": {},
   "source": []
  },
  {
   "cell_type": "code",
   "execution_count": 16,
   "id": "0f7c2387-1c41-4b25-a494-9e5bc2a18279",
   "metadata": {},
   "outputs": [
    {
     "name": "stdout",
     "output_type": "stream",
     "text": [
      "Key: azerbaijan_eggs, dried_whole supply chain, Shapiro-Wilk Statistic: 0.7092552185058594, P-Value: 0.007726724725216627\n",
      "Key: azerbaijan_grapes_whole supply chain, Shapiro-Wilk Statistic: 0.49609440565109253, P-Value: 2.0729225070681423e-05\n",
      "Key: azerbaijan_meat of goat, fresh or chilled_whole supply chain, Shapiro-Wilk Statistic: 0.7046531438827515, P-Value: 0.006917939987033606\n",
      "Key: azerbaijan_oats_whole supply chain, Shapiro-Wilk Statistic: 0.5412836074829102, P-Value: 8.403594983974472e-05\n",
      "Key: azerbaijan_onions and shallots, green_whole supply chain, Shapiro-Wilk Statistic: 0.7552054524421692, P-Value: 0.02238907851278782\n",
      "Key: azerbaijan_potatoes_whole supply chain, Shapiro-Wilk Statistic: 0.4638161063194275, P-Value: 5.713973678211914e-06\n",
      "Key: azerbaijan_tomatoes_whole supply chain, Shapiro-Wilk Statistic: 0.6398937106132507, P-Value: 0.0013507520779967308\n",
      "Key: azerbaijan_wheat_whole supply chain, Shapiro-Wilk Statistic: 0.7554329633712769, P-Value: 0.022503217682242393\n",
      "Key: benin_maize (corn)_storage, Shapiro-Wilk Statistic: 0.8972689509391785, P-Value: 0.20442460477352142\n",
      "Key: china_rice_storage, Shapiro-Wilk Statistic: 0.7797254323959351, P-Value: 0.03831930831074715\n",
      "Key: ethiopia_maize (corn)_storage, Shapiro-Wilk Statistic: 0.8840219378471375, P-Value: 0.3279353678226471\n",
      "Key: ghana_maize (corn)_storage, Shapiro-Wilk Statistic: 0.8895746469497681, P-Value: 0.137377068400383\n",
      "Key: ghana_tomatoes_farm, Shapiro-Wilk Statistic: 0.9382708072662354, P-Value: 0.6537399291992188\n",
      "Key: ghana_yams_storage, Shapiro-Wilk Statistic: 0.8228858113288879, P-Value: 0.093460313975811\n",
      "Key: india_cabbages_farm, Shapiro-Wilk Statistic: 0.8523808717727661, P-Value: 0.16451852023601532\n",
      "Key: india_cauliflowers and broccoli_farm, Shapiro-Wilk Statistic: 0.8967244029045105, P-Value: 0.35493049025535583\n",
      "Key: india_cauliflowers and broccoli_harvest, Shapiro-Wilk Statistic: 0.5885142087936401, P-Value: 0.0004378175945021212\n",
      "Key: india_maize (corn)_storage, Shapiro-Wilk Statistic: 0.7450022101402283, P-Value: 0.02673712559044361\n",
      "Key: india_mangoes, guavas and mangosteens_farm, Shapiro-Wilk Statistic: 0.8332300186157227, P-Value: 0.11445595324039459\n",
      "Key: india_mangoes, guavas and mangosteens_harvest, Shapiro-Wilk Statistic: 0.5938547253608704, P-Value: 0.0005179399740882218\n",
      "Key: india_potatoes_farm, Shapiro-Wilk Statistic: 0.8594493865966797, P-Value: 0.1496792882680893\n",
      "Key: india_potatoes_harvest, Shapiro-Wilk Statistic: 0.5920991897583008, P-Value: 0.0004902264918200672\n",
      "Key: india_rice_storage, Shapiro-Wilk Statistic: 0.8037214279174805, P-Value: 0.08686553686857224\n",
      "Key: india_soya beans_harvest, Shapiro-Wilk Statistic: 0.8617247343063354, P-Value: 0.23450711369514465\n",
      "Key: india_tomatoes_farm, Shapiro-Wilk Statistic: 0.9016878008842468, P-Value: 0.2992119789123535\n",
      "Key: india_tomatoes_harvest, Shapiro-Wilk Statistic: 0.9335426092147827, P-Value: 0.6207194924354553\n",
      "Key: india_tomatoes_storage, Shapiro-Wilk Statistic: 0.9349353313446045, P-Value: 0.6303892135620117\n",
      "Key: india_wheat_storage, Shapiro-Wilk Statistic: 0.7617571949958801, P-Value: 0.03810425102710724\n",
      "Key: indonesia_rice_processing, Shapiro-Wilk Statistic: 0.7678005695343018, P-Value: 0.04314303770661354\n",
      "Key: kenya_maize (corn)_storage, Shapiro-Wilk Statistic: 0.8620313405990601, P-Value: 0.15785253047943115\n",
      "Key: malawi_maize (corn)_storage, Shapiro-Wilk Statistic: 0.7917773723602295, P-Value: 0.03393473103642464\n",
      "Key: pakistan_wheat_farm, Shapiro-Wilk Statistic: 0.8792132139205933, P-Value: 0.15405398607254028\n",
      "Key: pakistan_wheat_harvest, Shapiro-Wilk Statistic: 0.7617884874343872, P-Value: 0.001746344263665378\n",
      "Key: pakistan_wheat_storage, Shapiro-Wilk Statistic: 0.968717634677887, P-Value: 0.8877593874931335\n",
      "Key: united republic of tanzania_maize (corn)_farm, Shapiro-Wilk Statistic: 0.7107042074203491, P-Value: 0.01235179603099823\n",
      "Key: united republic of tanzania_maize (corn)_storage, Shapiro-Wilk Statistic: 0.8580759167671204, P-Value: 0.22142228484153748\n",
      "Key: united states of america_cabbages_whole supply chain, Shapiro-Wilk Statistic: 0.6344943046569824, P-Value: 6.563219412392129e-10\n",
      "Key: united states of america_carrots and turnips_whole supply chain, Shapiro-Wilk Statistic: 0.6344943046569824, P-Value: 6.563219412392129e-10\n",
      "Key: united states of america_grapefruit juice_whole supply chain, Shapiro-Wilk Statistic: 0.9236427545547485, P-Value: 0.023142283782362938\n",
      "Key: united states of america_hen eggs in shell, fresh_whole supply chain, Shapiro-Wilk Statistic: 0.4766310453414917, P-Value: 4.202541092901413e-12\n",
      "Key: united states of america_lettuce and chicory_whole supply chain, Shapiro-Wilk Statistic: 0.575922966003418, P-Value: 8.692722236469663e-11\n",
      "Key: united states of america_orange juice_whole supply chain, Shapiro-Wilk Statistic: 0.9042830467224121, P-Value: 0.005164971109479666\n",
      "Key: united states of america_other beans, green_whole supply chain, Shapiro-Wilk Statistic: 0.6155552864074707, P-Value: 3.3380739838939633e-10\n",
      "Key: united states of america_potatoes_whole supply chain, Shapiro-Wilk Statistic: 0.12542837858200073, P-Value: 1.1273950294439614e-15\n",
      "**************Total Normal keys are 18\n",
      "**************Total non-normal keys are 26\n",
      "The following keys have non-normal distributions: azerbaijan_eggs, dried_whole supply chain, azerbaijan_grapes_whole supply chain, azerbaijan_meat of goat, fresh or chilled_whole supply chain, azerbaijan_oats_whole supply chain, azerbaijan_onions and shallots, green_whole supply chain, azerbaijan_potatoes_whole supply chain, azerbaijan_tomatoes_whole supply chain, azerbaijan_wheat_whole supply chain, china_rice_storage, india_cauliflowers and broccoli_harvest, india_maize (corn)_storage, india_mangoes, guavas and mangosteens_harvest, india_potatoes_harvest, india_wheat_storage, indonesia_rice_processing, malawi_maize (corn)_storage, pakistan_wheat_harvest, united republic of tanzania_maize (corn)_farm, united states of america_cabbages_whole supply chain, united states of america_carrots and turnips_whole supply chain, united states of america_grapefruit juice_whole supply chain, united states of america_hen eggs in shell, fresh_whole supply chain, united states of america_lettuce and chicory_whole supply chain, united states of america_orange juice_whole supply chain, united states of america_other beans, green_whole supply chain, united states of america_potatoes_whole supply chain\n"
     ]
    }
   ],
   "source": [
    "# Shapiro test for normality\n",
    "\n",
    "grouped_data = inter.groupby('main_key')['loss_percentage'].apply(list)\n",
    "\n",
    "normality_test_results = {}\n",
    "\n",
    "for key, data in grouped_data.items():\n",
    "    statistic, p_value = stats.shapiro(data)\n",
    "    normality_test_results[key] = {'Statistic': statistic, 'P-Value': p_value}\n",
    "\n",
    "for key, result in normality_test_results.items():\n",
    "    print(f\"Key: {key}, Shapiro-Wilk Statistic: {result['Statistic']}, P-Value: {result['P-Value']}\")\n",
    "\n",
    "alpha = 0.05\n",
    "non_normal_keys = [key for key, result in normality_test_results.items() if result['P-Value'] < alpha]\n",
    "normal_keys = [key for key, result in normality_test_results.items() if result['P-Value'] > alpha]\n",
    "\n",
    "\n",
    "print('**************Total Normal keys are',len(normal_keys))\n",
    "print('**************Total non-normal keys are',len(non_normal_keys))\n",
    "\n",
    "\n",
    "if non_normal_keys:\n",
    "    print(f\"The following keys have non-normal distributions: {', '.join(non_normal_keys)}\")\n",
    "else:\n",
    "    print(\"All keys have normal distributions.\")\n"
   ]
  },
  {
   "cell_type": "markdown",
   "id": "f0826657-95af-4019-9d4a-1ee4ba11cfee",
   "metadata": {},
   "source": [
    "**Ho=The median loss percentage in the \"storage\" stage is not significantly different from the medians in other food supply stages.**"
   ]
  },
  {
   "cell_type": "code",
   "execution_count": 17,
   "id": "c777d93b-0c10-4e98-b89a-cb8c529ca548",
   "metadata": {},
   "outputs": [
    {
     "name": "stdout",
     "output_type": "stream",
     "text": [
      "Kruskal-Wallis Statistic: 15.983702619490183\n",
      "P-Value: 0.0030411104441874196\n",
      "         Multiple Comparison of Means - Tukey HSD, FWER=0.05         \n",
      "=====================================================================\n",
      "  group1         group2       meandiff p-adj   lower    upper  reject\n",
      "---------------------------------------------------------------------\n",
      "      farm            harvest  -2.5678 0.8802 -10.0229  4.8873  False\n",
      "      farm         processing  -2.5074 0.9937 -18.9859 13.9711  False\n",
      "      farm            storage   0.0471    1.0   -6.149  6.2432  False\n",
      "      farm whole supply chain   2.9213  0.534  -2.2546  8.0971  False\n",
      "   harvest         processing   0.0605    1.0 -16.6572 16.7781  False\n",
      "   harvest            storage   2.6149 0.8312  -4.1918  9.4216  False\n",
      "   harvest whole supply chain   5.4891 0.0816  -0.4041 11.3823  False\n",
      "processing            storage   2.5545 0.9928  -13.641 18.7499  False\n",
      "processing whole supply chain   5.4286 0.8819 -10.4046 21.2619  False\n",
      "   storage whole supply chain   2.8742 0.3305  -1.3142  7.0625  False\n",
      "---------------------------------------------------------------------\n",
      "P-Value for Storage vs. Others: 0.9937006859912271\n"
     ]
    },
    {
     "data": {
      "image/png": "[encoded data removed]",
      "text/plain": [
       "<Figure size 1000x600 with 1 Axes>"
      ]
     },
     "metadata": {},
     "output_type": "display_data"
    },
    {
     "name": "stdout",
     "output_type": "stream",
     "text": [
      "null hypothesis: Median loss percentage in storage is not significantly different from other stages.\n"
     ]
    }
   ],
   "source": [
    "hypothesis_data = inter.groupby('food_supply_stage')['loss_percentage'].apply(list)\n",
    "\n",
    "statistic, p_value = stats.kruskal(*hypothesis_data)\n",
    "\n",
    "print(f'Kruskal-Wallis Statistic: {statistic}')\n",
    "print(f'P-Value: {p_value}')\n",
    "\n",
    "if p_value < 0.05:\n",
    "    posthoc_dunn = pairwise_tukeyhsd(inter['loss_percentage'], inter['food_supply_stage'], alpha=0.05)\n",
    "    print(posthoc_dunn)\n",
    "\n",
    "    p_value_storage = posthoc_dunn.pvalues[1]  \n",
    "    \n",
    "    print(f'P-Value for Storage vs. Others: {p_value_storage}')\n",
    "\n",
    "    plt.figure(figsize=(10, 6))\n",
    "    sns.boxplot(x='food_supply_stage', y='loss_percentage', data=inter)\n",
    "    plt.title('Comparison of Loss Percentages Across Food Supply Stages')\n",
    "    plt.xlabel('Food Supply Stage')\n",
    "    plt.ylabel('Loss Percentage')\n",
    "    plt.show()\n",
    "\n",
    "    alpha = 0.05\n",
    "    if p_value_storage < alpha:\n",
    "        print('Reject the null hypothesis: Median loss percentage in storage is significantly different from other stages.')\n",
    "    else:\n",
    "        print('null hypothesis: Median loss percentage in storage is not significantly different from other stages.')\n",
    "else:\n",
    "    print('Fail to reject the null hypothesis from the Kruskal-Wallis test: There is no significant difference in loss percentages acr')\n"
   ]
  },
  {
   "cell_type": "markdown",
   "id": "0d9d8c38-fc97-4a76-8a6c-945860ab3ab3",
   "metadata": {},
   "source": [
    "**H0 - The variances of loss percentages are equal across all food supply stages.**"
   ]
  },
  {
   "cell_type": "markdown",
   "id": "8605666e-4bec-4579-be5f-10779f40fbe2",
   "metadata": {},
   "source": [
    "**Levene test to evluate our NULL hypothesis for non-normal keys** "
   ]
  },
  {
   "cell_type": "code",
   "execution_count": 18,
   "id": "10e527cb-f2d4-4c42-a685-87490cd1f1f7",
   "metadata": {},
   "outputs": [
    {
     "name": "stdout",
     "output_type": "stream",
     "text": [
      "Levene's Statistic: 0.9575966895994413\n",
      "P-Value: 0.43048592264400853\n",
      "Fail to reject the null hypothesis: Variances of loss percentages among food supply stages are equal.\n"
     ]
    }
   ],
   "source": [
    "inter_non_normal = inter[inter['main_key'].isin(non_normal_keys)]\n",
    "\n",
    "hypothesis_data = [inter_non_normal[inter_non_normal['food_supply_stage'] == stage]['loss_percentage'].dropna() for stage in inter_non_normal['food_supply_stage'].unique()]\n",
    "\n",
    "statistic, p_value = stats.levene(*hypothesis_data)\n",
    "\n",
    "print(f'Levene\\'s Statistic: {statistic}')\n",
    "print(f'P-Value: {p_value}')\n",
    "\n",
    "alpha = 0.05\n",
    "if p_value < alpha:\n",
    "    print('Reject the null hypothesis: Variances of loss percentages among food supply stages are not equal.')\n",
    "else:\n",
    "    print('Fail to reject the null hypothesis: Variances of loss percentages among food supply stages are equal.')\n"
   ]
  },
  {
   "cell_type": "markdown",
   "id": "c5d65807-74d6-4114-822d-31a9a6951398",
   "metadata": {},
   "source": [
    "**Bartlett test to evluate our NULL hypothesis for normal keys** "
   ]
  },
  {
   "cell_type": "code",
   "execution_count": 19,
   "id": "b19d60ce-799c-491d-8c38-03efb6ad8d0f",
   "metadata": {},
   "outputs": [
    {
     "name": "stdout",
     "output_type": "stream",
     "text": [
      "Bartlett's Statistic: 16.88509970901308\n",
      "P-Value: 0.00021549995558845693\n",
      "Reject the null hypothesis: Variances of loss percentages among food supply stages are not equal.\n"
     ]
    }
   ],
   "source": [
    "inter_normal = inter[inter['main_key'].isin(normal_keys)]\n",
    "\n",
    "\n",
    "hypothesis_data = [inter_normal[inter_normal['food_supply_stage'] == stage]['loss_percentage'].dropna() for stage in inter_normal['food_supply_stage'].unique()]\n",
    "\n",
    "statistic, p_value = stats.bartlett(*hypothesis_data)\n",
    "\n",
    "print(f'Bartlett\\'s Statistic: {statistic}')\n",
    "print(f'P-Value: {p_value}')\n",
    "\n",
    "alpha = 0.05\n",
    "if p_value < alpha:\n",
    "    print('Reject the null hypothesis: Variances of loss percentages among food supply stages are not equal.')\n",
    "else:\n",
    "    print('Fail to reject the null hypothesis: Variances of loss percentages among food supply stages are equal.')\n"
   ]
  },
  {
   "cell_type": "code",
   "execution_count": null,
   "id": "f83efeb7-ab5e-4c13-bc04-d5f2ef23c5f3",
   "metadata": {},
   "outputs": [],
   "source": []
  }
 ],
 "metadata": {
  "kernelspec": {
   "display_name": "Python 3 (ipykernel)",
   "language": "python",
   "name": "python3"
  },
  "language_info": {
   "codemirror_mode": {
    "name": "ipython",
    "version": 3
   },
   "file_extension": ".py",
   "mimetype": "text/x-python",
   "name": "python",
   "nbconvert_exporter": "python",
   "pygments_lexer": "ipython3",
   "version": "3.10.9"
  }
 },
 "nbformat": 4,
 "nbformat_minor": 5
}
