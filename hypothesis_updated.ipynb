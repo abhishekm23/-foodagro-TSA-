{
 "cells": [
  {
   "cell_type": "code",
   "execution_count": 2,
   "id": "53e7332c-be26-41ae-bcbd-efc820604df4",
   "metadata": {},
   "outputs": [],
   "source": [
    "from statsmodels.stats.multicomp import pairwise_tukeyhsd\n",
    "import pandas as pd\n",
    "import scipy.stats as stats\n",
    "import seaborn as sns\n",
    "import matplotlib.pyplot as plt"
   ]
  },
  {
   "cell_type": "code",
   "execution_count": 3,
   "id": "7bbf9cf0-26a2-4a01-8eef-cdb213e9e87c",
   "metadata": {},
   "outputs": [],
   "source": [
    "inter = pd.read_csv(\"reliable_data.csv\")"
   ]
  },
  {
   "cell_type": "markdown",
   "id": "8fa5c10f-ef39-4fc2-9ae3-39caf42dfc02",
   "metadata": {},
   "source": [
    "Null hypothesis: Non Stationarity exists in the series.\n",
    "\n",
    "Alternative Hypothesis: Stationarity exists in the series\n",
    "\n",
    "accepted_keys = where the null hypothesis was accepted \n",
    "\n",
    "rejected_keys = where the null hypothesis was rejected "
   ]
  },
  {
   "cell_type": "code",
   "execution_count": 4,
   "id": "5075d51e-e1f6-418e-9f14-56c091fb45ca",
   "metadata": {},
   "outputs": [
    {
     "name": "stderr",
     "output_type": "stream",
     "text": [
      "/home/taps/anaconda3/lib/python3.10/site-packages/statsmodels/regression/linear_model.py:940: RuntimeWarning: divide by zero encountered in log\n",
      "  llf = -nobs2*np.log(2*np.pi) - nobs2*np.log(ssr / nobs) - nobs2\n"
     ]
    }
   ],
   "source": [
    "from statsmodels.tsa.stattools import adfuller\n",
    "\n",
    "results_dict = {}\n",
    "accepted_pvalue_keys = []\n",
    "rejected_pvalue_keys = []\n",
    "accepted_critical_keys = []\n",
    "rejected_critical_keys = []\n",
    "\n",
    "def adf_test(series, key_name):\n",
    "    result = adfuller(series)\n",
    "    \n",
    "    results_dict[key_name] = {\n",
    "        'Test Statistic': result[0],\n",
    "        'p-value': result[1],\n",
    "        'Critical Values': {key: value for key, value in result[4].items()}\n",
    "    }\n",
    "    \n",
    "    if result[1] < 0.05:\n",
    "        rejected_pvalue_keys.append(key_name)\n",
    "    else:\n",
    "        accepted_pvalue_keys.append(key_name)\n",
    "    \n",
    "    test_statistic = result[0]\n",
    "    critical_values = result[4]\n",
    "    \n",
    "    if all(test_statistic < crit_value for crit_value in critical_values.values()):\n",
    "        rejected_critical_keys.append(key_name)\n",
    "    else:\n",
    "        accepted_critical_keys.append(key_name)\n",
    "\n",
    "for key in inter['main_key'].unique():\n",
    "    series_key = inter[inter['main_key'] == key]['loss_percentage']\n",
    "    adf_test(series_key, key)\n"
   ]
  },
  {
   "cell_type": "code",
   "execution_count": 5,
   "id": "dd637976-7f4b-4862-b659-0b71eca71216",
   "metadata": {},
   "outputs": [
    {
     "data": {
      "text/plain": [
       "37"
      ]
     },
     "execution_count": 5,
     "metadata": {},
     "output_type": "execute_result"
    }
   ],
   "source": [
    "len(accepted_critical_keys)"
   ]
  },
  {
   "cell_type": "code",
   "execution_count": 6,
   "id": "f968967b-a015-4585-b14b-1ce3e1d145ab",
   "metadata": {},
   "outputs": [
    {
     "data": {
      "text/plain": [
       "31"
      ]
     },
     "execution_count": 6,
     "metadata": {},
     "output_type": "execute_result"
    }
   ],
   "source": [
    "len(accepted_pvalue_keys)"
   ]
  },
  {
   "cell_type": "markdown",
   "id": "8dd6ff5a-0fb6-4d06-b73a-c14b3a839d9d",
   "metadata": {},
   "source": [
    "Ho(Accepted): There is no trend present in the data.(p-value>0.05)\n",
    "\n",
    "Ha(Rejected): A trend is present in the data."
   ]
  },
  {
   "cell_type": "code",
   "execution_count": 7,
   "id": "8ffec776-61a1-4230-90ca-de0542208bb2",
   "metadata": {},
   "outputs": [],
   "source": [
    "import pymannkendall as mk\n",
    "\n",
    "results_dict_trend = {}\n",
    "accepted_pvalue_keys_trend = []\n",
    "rejected_pvalue_keys_trend = []\n",
    "\n",
    "def mann_kendall(series, key_name):\n",
    "    result = mk.original_test(series)\n",
    "    \n",
    "    results_dict_trend[key_name] = {\n",
    "        'Trend': result[0],\n",
    "        'p-value': result[2]\n",
    "    }\n",
    "    \n",
    "    if result[2] < 0.05:\n",
    "        rejected_pvalue_keys_trend.append(key_name)\n",
    "    else:\n",
    "        accepted_pvalue_keys_trend.append(key_name)\n",
    "    \n",
    "for key in inter['main_key'].unique():\n",
    "    series_key = inter[inter['main_key'] == key]['loss_percentage']\n",
    "    mann_kendall(series_key, key)"
   ]
  },
  {
   "cell_type": "code",
   "execution_count": null,
   "id": "62ddacfe-a52c-4199-b271-8b57c7a8b5f2",
   "metadata": {},
   "outputs": [],
   "source": []
  }
 ],
 "metadata": {
  "kernelspec": {
   "display_name": "Python 3 (ipykernel)",
   "language": "python",
   "name": "python3"
  },
  "language_info": {
   "codemirror_mode": {
    "name": "ipython",
    "version": 3
   },
   "file_extension": ".py",
   "mimetype": "text/x-python",
   "name": "python",
   "nbconvert_exporter": "python",
   "pygments_lexer": "ipython3",
   "version": "3.10.9"
  }
 },
 "nbformat": 4,
 "nbformat_minor": 5
}
